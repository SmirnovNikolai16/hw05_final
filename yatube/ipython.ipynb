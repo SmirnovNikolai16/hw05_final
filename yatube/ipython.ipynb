{
 "cells": [
  {
   "cell_type": "code",
   "execution_count": 1,
   "id": "9c025b5f",
   "metadata": {},
   "outputs": [],
   "source": [
    "from django.contrib.auth.decorators import login_required\n",
    "from django.core.paginator import Paginator\n",
    "from django.shortcuts import get_object_or_404, redirect, render\n",
    "from django.views.decorators.cache import cache_page\n",
    "\n",
    "from posts.forms import CommentForm, PostForm\n",
    "from posts.models import Follow, Group, Post, User"
   ]
  },
  {
   "cell_type": "code",
   "execution_count": 44,
   "id": "3a548eff",
   "metadata": {},
   "outputs": [
    {
     "name": "stdout",
     "output_type": "stream",
     "text": [
      "False\n"
     ]
    }
   ],
   "source": [
    "author = get_object_or_404(User, username='СмирновНиколай')\n",
    "user = get_object_or_404(User, username='СмирновНиколай')\n",
    "following_posts = Post.objects.filter(author__following__user=user)\n",
    "# follow = Follow.objects.create(user=user, author=author)\n",
    "following = Follow.objects.filter(author=author).exists()\n",
    "\n",
    "print(following)"
   ]
  },
  {
   "cell_type": "code",
   "execution_count": null,
   "id": "cffd529d",
   "metadata": {},
   "outputs": [],
   "source": []
  }
 ],
 "metadata": {
  "kernelspec": {
   "display_name": "Django Kernel",
   "language": "python",
   "name": "django_extensions"
  },
  "language_info": {
   "codemirror_mode": {
    "name": "ipython",
    "version": 3
   },
   "file_extension": ".py",
   "mimetype": "text/x-python",
   "name": "python",
   "nbconvert_exporter": "python",
   "pygments_lexer": "ipython3",
   "version": "3.9.5"
  }
 },
 "nbformat": 4,
 "nbformat_minor": 5
}
